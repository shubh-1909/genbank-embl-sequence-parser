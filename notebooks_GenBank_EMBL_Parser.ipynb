{
  "nbformat": 4,
  "nbformat_minor": 0,
  "metadata": {
    "colab": {
      "provenance": []
    },
    "kernelspec": {
      "name": "python3",
      "display_name": "Python 3"
    },
    "language_info": {
      "name": "python"
    },
    "widgets": {
      "application/vnd.jupyter.widget-state+json": {
        "6096c8e9751643198175ef6d950c4d06": {
          "model_module": "qgrid",
          "model_name": "QgridModel",
          "model_module_version": "^1.1.3",
          "state": {
            "_columns": {
              "index": {
                "name": "index",
                "type": "integer",
                "is_index": true,
                "index_display_text": "",
                "level": 0,
                "first_index": true,
                "position": 0,
                "field": "index",
                "id": "index",
                "cssClass": "integer",
                "editable": true,
                "defaultSortAsc": true,
                "maxWidth": null,
                "minWidth": 30,
                "resizable": true,
                "sortable": true,
                "toolTip": "",
                "width": null
              },
              "qgrid_unfiltered_index": {
                "name": "qgrid_unfiltered_index",
                "type": "integer",
                "position": 1,
                "field": "qgrid_unfiltered_index",
                "id": "qgrid_unfiltered_index",
                "cssClass": "integer",
                "editable": true,
                "defaultSortAsc": true,
                "maxWidth": null,
                "minWidth": 30,
                "resizable": true,
                "sortable": true,
                "toolTip": "",
                "width": null
              },
              "File": {
                "name": "File",
                "type": "string",
                "position": 2,
                "field": "File",
                "id": "File",
                "cssClass": "string",
                "editable": true,
                "defaultSortAsc": true,
                "maxWidth": null,
                "minWidth": 30,
                "resizable": true,
                "sortable": true,
                "toolTip": "",
                "width": null
              },
              "Record_ID": {
                "name": "Record_ID",
                "type": "string",
                "position": 3,
                "field": "Record_ID",
                "id": "Record_ID",
                "cssClass": "string",
                "editable": true,
                "defaultSortAsc": true,
                "maxWidth": null,
                "minWidth": 30,
                "resizable": true,
                "sortable": true,
                "toolTip": "",
                "width": null
              },
              "Type": {
                "name": "Type",
                "type": "string",
                "position": 4,
                "field": "Type",
                "id": "Type",
                "cssClass": "string",
                "editable": true,
                "defaultSortAsc": true,
                "maxWidth": null,
                "minWidth": 30,
                "resizable": true,
                "sortable": true,
                "toolTip": "",
                "width": null
              },
              "Start": {
                "name": "Start",
                "type": "string",
                "position": 5,
                "field": "Start",
                "id": "Start",
                "cssClass": "string",
                "editable": true,
                "defaultSortAsc": true,
                "maxWidth": null,
                "minWidth": 30,
                "resizable": true,
                "sortable": true,
                "toolTip": "",
                "width": null
              },
              "End": {
                "name": "End",
                "type": "string",
                "position": 6,
                "field": "End",
                "id": "End",
                "cssClass": "string",
                "editable": true,
                "defaultSortAsc": true,
                "maxWidth": null,
                "minWidth": 30,
                "resizable": true,
                "sortable": true,
                "toolTip": "",
                "width": null
              },
              "Length": {
                "name": "Length",
                "type": "string",
                "position": 7,
                "field": "Length",
                "id": "Length",
                "cssClass": "string",
                "editable": true,
                "defaultSortAsc": true,
                "maxWidth": null,
                "minWidth": 30,
                "resizable": true,
                "sortable": true,
                "toolTip": "",
                "width": null
              },
              "Strand": {
                "name": "Strand",
                "type": "string",
                "position": 8,
                "field": "Strand",
                "id": "Strand",
                "cssClass": "string",
                "editable": true,
                "defaultSortAsc": true,
                "maxWidth": null,
                "minWidth": 30,
                "resizable": true,
                "sortable": true,
                "toolTip": "",
                "width": null
              },
              "Gene": {
                "name": "Gene",
                "type": "string",
                "position": 9,
                "field": "Gene",
                "id": "Gene",
                "cssClass": "string",
                "editable": true,
                "defaultSortAsc": true,
                "maxWidth": null,
                "minWidth": 30,
                "resizable": true,
                "sortable": true,
                "toolTip": "",
                "width": null
              },
              "Product": {
                "name": "Product",
                "type": "string",
                "position": 10,
                "field": "Product",
                "id": "Product",
                "cssClass": "string",
                "editable": true,
                "defaultSortAsc": true,
                "maxWidth": null,
                "minWidth": 30,
                "resizable": true,
                "sortable": true,
                "toolTip": "",
                "width": null
              },
              "Protein Translation": {
                "name": "Protein Translation",
                "type": "string",
                "position": 11,
                "field": "Protein Translation",
                "id": "Protein Translation",
                "cssClass": "string",
                "editable": true,
                "defaultSortAsc": true,
                "maxWidth": null,
                "minWidth": 30,
                "resizable": true,
                "sortable": true,
                "toolTip": "",
                "width": null
              },
              "GC Content": {
                "name": "GC Content",
                "type": "string",
                "position": 12,
                "field": "GC Content",
                "id": "GC Content",
                "cssClass": "string",
                "editable": true,
                "defaultSortAsc": true,
                "maxWidth": null,
                "minWidth": 30,
                "resizable": true,
                "sortable": true,
                "toolTip": "",
                "width": null
              },
              "Long Gene": {
                "name": "Long Gene",
                "type": "string",
                "position": 13,
                "field": "Long Gene",
                "id": "Long Gene",
                "cssClass": "string",
                "editable": true,
                "defaultSortAsc": true,
                "maxWidth": null,
                "minWidth": 30,
                "resizable": true,
                "sortable": true,
                "toolTip": "",
                "width": null
              },
              "High GC": {
                "name": "High GC",
                "type": "string",
                "position": 14,
                "field": "High GC",
                "id": "High GC",
                "cssClass": "string",
                "editable": true,
                "defaultSortAsc": true,
                "maxWidth": null,
                "minWidth": 30,
                "resizable": true,
                "sortable": true,
                "toolTip": "",
                "width": null
              }
            },
            "_df_json": "{\"schema\":{\"fields\":[{\"name\":\"index\",\"type\":\"integer\"},{\"name\":\"qgrid_unfiltered_index\",\"type\":\"integer\"},{\"name\":\"File\",\"type\":\"string\"},{\"name\":\"Record_ID\",\"type\":\"string\"},{\"name\":\"Type\",\"type\":\"string\"},{\"name\":\"Start\",\"type\":\"string\"},{\"name\":\"End\",\"type\":\"string\"},{\"name\":\"Length\",\"type\":\"string\"},{\"name\":\"Strand\",\"type\":\"string\"},{\"name\":\"Gene\",\"type\":\"string\"},{\"name\":\"Product\",\"type\":\"string\"},{\"name\":\"Protein Translation\",\"type\":\"string\"},{\"name\":\"GC Content\",\"type\":\"string\"},{\"name\":\"Long Gene\",\"type\":\"string\"},{\"name\":\"High GC\",\"type\":\"string\"}],\"primaryKey\":[\"index\"],\"pandas_version\":\"1.4.0\"},\"data\":[]}",
            "_df_range": [
              0,
              100
            ],
            "_dom_classes": [],
            "_editable_rows": {},
            "_index_col_name": "qgrid_unfiltered_index",
            "_interval_columns": [],
            "_model_module": "qgrid",
            "_model_module_version": "^1.1.3",
            "_model_name": "QgridModel",
            "_multi_index": false,
            "_row_count": 0,
            "_row_styles": {},
            "_sort_ascending": true,
            "_sort_field": null,
            "_view_count": null,
            "_view_module": "qgrid",
            "_view_module_version": "^1.1.3",
            "_view_name": "QgridView",
            "_viewport_range": [
              0,
              100
            ],
            "grid_options": {
              "fullWidthRows": true,
              "syncColumnCellResize": true,
              "forceFitColumns": true,
              "defaultColumnWidth": 150,
              "rowHeight": 28,
              "enableColumnReorder": false,
              "enableTextSelectionOnCells": true,
              "editable": true,
              "autoEdit": false,
              "explicitInitialization": true,
              "maxVisibleRows": 15,
              "minVisibleRows": 8,
              "sortable": true,
              "filterable": true,
              "highlightSelectedCell": false,
              "highlightSelectedRow": true,
              "boldIndex": true
            },
            "id": "7c1bfd9b-a7a8-48b1-9aed-ae2b19f30d9a",
            "layout": "IPY_MODEL_0691655fb5d1489592ed9f0e5b348402",
            "precision": 5,
            "show_toolbar": true
          }
        }
      }
    }
  },
  "cells": [
    {
      "cell_type": "markdown",
      "source": [
        "# 🧬 GenBank / EMBL Sequence Parser with GC Analysis\n",
        "\n",
        "In this project, we:\n",
        "- Parse multiple GenBank (.gb, .gbk) or EMBL (.embl) files.\n",
        "- Extract `gene` and `CDS` features: start, end, strand, product, translation.\n",
        "- Compute GC content for CDS regions.\n",
        "- Flag interesting features:\n",
        "  - Long genes (>1000 bp)\n",
        "  - High GC content (>60%)\n",
        "- Explore data in an interactive table.\n",
        "- Save results to a CSV for further analysis.\n",
        "\n",
        "Powered by **BioPython + pandas + Google Colab widgets**.\n"
      ],
      "metadata": {
        "id": "y8xbf6HW_Pba"
      }
    },
    {
      "cell_type": "code",
      "execution_count": 1,
      "metadata": {
        "colab": {
          "base_uri": "https://localhost:8080/"
        },
        "id": "N3_Sj8p57HGf",
        "outputId": "a3b0a456-477c-4bb8-92d9-d43f2ed75e25"
      },
      "outputs": [
        {
          "output_type": "stream",
          "name": "stdout",
          "text": [
            "Collecting biopython\n",
            "  Downloading biopython-1.85-cp311-cp311-manylinux_2_17_x86_64.manylinux2014_x86_64.whl.metadata (13 kB)\n",
            "Collecting qgrid\n",
            "  Downloading qgrid-1.3.1.tar.gz (889 kB)\n",
            "\u001b[2K     \u001b[90m━━━━━━━━━━━━━━━━━━━━━━━━━━━━━━━━━━━━━━\u001b[0m \u001b[32m889.2/889.2 kB\u001b[0m \u001b[31m18.6 MB/s\u001b[0m eta \u001b[36m0:00:00\u001b[0m\n",
            "\u001b[?25h  Preparing metadata (setup.py) ... \u001b[?25l\u001b[?25hdone\n",
            "Requirement already satisfied: numpy in /usr/local/lib/python3.11/dist-packages (from biopython) (2.0.2)\n",
            "Requirement already satisfied: notebook>=4.0.0 in /usr/local/lib/python3.11/dist-packages (from qgrid) (6.5.7)\n",
            "Requirement already satisfied: pandas>=0.18.0 in /usr/local/lib/python3.11/dist-packages (from qgrid) (2.2.2)\n",
            "Requirement already satisfied: ipywidgets>=7.0.0 in /usr/local/lib/python3.11/dist-packages (from qgrid) (7.7.1)\n",
            "Requirement already satisfied: ipykernel>=4.5.1 in /usr/local/lib/python3.11/dist-packages (from ipywidgets>=7.0.0->qgrid) (6.17.1)\n",
            "Requirement already satisfied: ipython-genutils~=0.2.0 in /usr/local/lib/python3.11/dist-packages (from ipywidgets>=7.0.0->qgrid) (0.2.0)\n",
            "Requirement already satisfied: traitlets>=4.3.1 in /usr/local/lib/python3.11/dist-packages (from ipywidgets>=7.0.0->qgrid) (5.7.1)\n",
            "Requirement already satisfied: widgetsnbextension~=3.6.0 in /usr/local/lib/python3.11/dist-packages (from ipywidgets>=7.0.0->qgrid) (3.6.10)\n",
            "Requirement already satisfied: ipython>=4.0.0 in /usr/local/lib/python3.11/dist-packages (from ipywidgets>=7.0.0->qgrid) (7.34.0)\n",
            "Requirement already satisfied: jupyterlab-widgets>=1.0.0 in /usr/local/lib/python3.11/dist-packages (from ipywidgets>=7.0.0->qgrid) (3.0.15)\n",
            "Requirement already satisfied: jinja2 in /usr/local/lib/python3.11/dist-packages (from notebook>=4.0.0->qgrid) (3.1.6)\n",
            "Requirement already satisfied: tornado>=6.1 in /usr/local/lib/python3.11/dist-packages (from notebook>=4.0.0->qgrid) (6.4.2)\n",
            "Requirement already satisfied: pyzmq>=17 in /usr/local/lib/python3.11/dist-packages (from notebook>=4.0.0->qgrid) (24.0.1)\n",
            "Requirement already satisfied: argon2-cffi in /usr/local/lib/python3.11/dist-packages (from notebook>=4.0.0->qgrid) (25.1.0)\n",
            "Requirement already satisfied: jupyter-core>=4.6.1 in /usr/local/lib/python3.11/dist-packages (from notebook>=4.0.0->qgrid) (5.8.1)\n",
            "Requirement already satisfied: jupyter-client<8,>=5.3.4 in /usr/local/lib/python3.11/dist-packages (from notebook>=4.0.0->qgrid) (6.1.12)\n",
            "Requirement already satisfied: nbformat in /usr/local/lib/python3.11/dist-packages (from notebook>=4.0.0->qgrid) (5.10.4)\n",
            "Requirement already satisfied: nbconvert>=5 in /usr/local/lib/python3.11/dist-packages (from notebook>=4.0.0->qgrid) (7.16.6)\n",
            "Requirement already satisfied: nest-asyncio>=1.5 in /usr/local/lib/python3.11/dist-packages (from notebook>=4.0.0->qgrid) (1.6.0)\n",
            "Requirement already satisfied: Send2Trash>=1.8.0 in /usr/local/lib/python3.11/dist-packages (from notebook>=4.0.0->qgrid) (1.8.3)\n",
            "Requirement already satisfied: terminado>=0.8.3 in /usr/local/lib/python3.11/dist-packages (from notebook>=4.0.0->qgrid) (0.18.1)\n",
            "Requirement already satisfied: prometheus-client in /usr/local/lib/python3.11/dist-packages (from notebook>=4.0.0->qgrid) (0.22.1)\n",
            "Requirement already satisfied: nbclassic>=0.4.7 in /usr/local/lib/python3.11/dist-packages (from notebook>=4.0.0->qgrid) (1.3.1)\n",
            "Requirement already satisfied: python-dateutil>=2.8.2 in /usr/local/lib/python3.11/dist-packages (from pandas>=0.18.0->qgrid) (2.9.0.post0)\n",
            "Requirement already satisfied: pytz>=2020.1 in /usr/local/lib/python3.11/dist-packages (from pandas>=0.18.0->qgrid) (2025.2)\n",
            "Requirement already satisfied: tzdata>=2022.7 in /usr/local/lib/python3.11/dist-packages (from pandas>=0.18.0->qgrid) (2025.2)\n",
            "Requirement already satisfied: debugpy>=1.0 in /usr/local/lib/python3.11/dist-packages (from ipykernel>=4.5.1->ipywidgets>=7.0.0->qgrid) (1.8.0)\n",
            "Requirement already satisfied: matplotlib-inline>=0.1 in /usr/local/lib/python3.11/dist-packages (from ipykernel>=4.5.1->ipywidgets>=7.0.0->qgrid) (0.1.7)\n",
            "Requirement already satisfied: packaging in /usr/local/lib/python3.11/dist-packages (from ipykernel>=4.5.1->ipywidgets>=7.0.0->qgrid) (24.2)\n",
            "Requirement already satisfied: psutil in /usr/local/lib/python3.11/dist-packages (from ipykernel>=4.5.1->ipywidgets>=7.0.0->qgrid) (5.9.5)\n",
            "Requirement already satisfied: setuptools>=18.5 in /usr/local/lib/python3.11/dist-packages (from ipython>=4.0.0->ipywidgets>=7.0.0->qgrid) (75.2.0)\n",
            "Collecting jedi>=0.16 (from ipython>=4.0.0->ipywidgets>=7.0.0->qgrid)\n",
            "  Downloading jedi-0.19.2-py2.py3-none-any.whl.metadata (22 kB)\n",
            "Requirement already satisfied: decorator in /usr/local/lib/python3.11/dist-packages (from ipython>=4.0.0->ipywidgets>=7.0.0->qgrid) (4.4.2)\n",
            "Requirement already satisfied: pickleshare in /usr/local/lib/python3.11/dist-packages (from ipython>=4.0.0->ipywidgets>=7.0.0->qgrid) (0.7.5)\n",
            "Requirement already satisfied: prompt-toolkit!=3.0.0,!=3.0.1,<3.1.0,>=2.0.0 in /usr/local/lib/python3.11/dist-packages (from ipython>=4.0.0->ipywidgets>=7.0.0->qgrid) (3.0.51)\n",
            "Requirement already satisfied: pygments in /usr/local/lib/python3.11/dist-packages (from ipython>=4.0.0->ipywidgets>=7.0.0->qgrid) (2.19.2)\n",
            "Requirement already satisfied: backcall in /usr/local/lib/python3.11/dist-packages (from ipython>=4.0.0->ipywidgets>=7.0.0->qgrid) (0.2.0)\n",
            "Requirement already satisfied: pexpect>4.3 in /usr/local/lib/python3.11/dist-packages (from ipython>=4.0.0->ipywidgets>=7.0.0->qgrid) (4.9.0)\n",
            "Requirement already satisfied: platformdirs>=2.5 in /usr/local/lib/python3.11/dist-packages (from jupyter-core>=4.6.1->notebook>=4.0.0->qgrid) (4.3.8)\n",
            "Requirement already satisfied: notebook-shim>=0.2.3 in /usr/local/lib/python3.11/dist-packages (from nbclassic>=0.4.7->notebook>=4.0.0->qgrid) (0.2.4)\n",
            "Requirement already satisfied: beautifulsoup4 in /usr/local/lib/python3.11/dist-packages (from nbconvert>=5->notebook>=4.0.0->qgrid) (4.13.4)\n",
            "Requirement already satisfied: bleach!=5.0.0 in /usr/local/lib/python3.11/dist-packages (from bleach[css]!=5.0.0->nbconvert>=5->notebook>=4.0.0->qgrid) (6.2.0)\n",
            "Requirement already satisfied: defusedxml in /usr/local/lib/python3.11/dist-packages (from nbconvert>=5->notebook>=4.0.0->qgrid) (0.7.1)\n",
            "Requirement already satisfied: jupyterlab-pygments in /usr/local/lib/python3.11/dist-packages (from nbconvert>=5->notebook>=4.0.0->qgrid) (0.3.0)\n",
            "Requirement already satisfied: markupsafe>=2.0 in /usr/local/lib/python3.11/dist-packages (from nbconvert>=5->notebook>=4.0.0->qgrid) (3.0.2)\n",
            "Requirement already satisfied: mistune<4,>=2.0.3 in /usr/local/lib/python3.11/dist-packages (from nbconvert>=5->notebook>=4.0.0->qgrid) (3.1.3)\n",
            "Requirement already satisfied: nbclient>=0.5.0 in /usr/local/lib/python3.11/dist-packages (from nbconvert>=5->notebook>=4.0.0->qgrid) (0.10.2)\n",
            "Requirement already satisfied: pandocfilters>=1.4.1 in /usr/local/lib/python3.11/dist-packages (from nbconvert>=5->notebook>=4.0.0->qgrid) (1.5.1)\n",
            "Requirement already satisfied: fastjsonschema>=2.15 in /usr/local/lib/python3.11/dist-packages (from nbformat->notebook>=4.0.0->qgrid) (2.21.1)\n",
            "Requirement already satisfied: jsonschema>=2.6 in /usr/local/lib/python3.11/dist-packages (from nbformat->notebook>=4.0.0->qgrid) (4.24.0)\n",
            "Requirement already satisfied: six>=1.5 in /usr/local/lib/python3.11/dist-packages (from python-dateutil>=2.8.2->pandas>=0.18.0->qgrid) (1.17.0)\n",
            "Requirement already satisfied: ptyprocess in /usr/local/lib/python3.11/dist-packages (from terminado>=0.8.3->notebook>=4.0.0->qgrid) (0.7.0)\n",
            "Requirement already satisfied: argon2-cffi-bindings in /usr/local/lib/python3.11/dist-packages (from argon2-cffi->notebook>=4.0.0->qgrid) (21.2.0)\n",
            "Requirement already satisfied: webencodings in /usr/local/lib/python3.11/dist-packages (from bleach!=5.0.0->bleach[css]!=5.0.0->nbconvert>=5->notebook>=4.0.0->qgrid) (0.5.1)\n",
            "Requirement already satisfied: tinycss2<1.5,>=1.1.0 in /usr/local/lib/python3.11/dist-packages (from bleach[css]!=5.0.0->nbconvert>=5->notebook>=4.0.0->qgrid) (1.4.0)\n",
            "Requirement already satisfied: parso<0.9.0,>=0.8.4 in /usr/local/lib/python3.11/dist-packages (from jedi>=0.16->ipython>=4.0.0->ipywidgets>=7.0.0->qgrid) (0.8.4)\n",
            "Requirement already satisfied: attrs>=22.2.0 in /usr/local/lib/python3.11/dist-packages (from jsonschema>=2.6->nbformat->notebook>=4.0.0->qgrid) (25.3.0)\n",
            "Requirement already satisfied: jsonschema-specifications>=2023.03.6 in /usr/local/lib/python3.11/dist-packages (from jsonschema>=2.6->nbformat->notebook>=4.0.0->qgrid) (2025.4.1)\n",
            "Requirement already satisfied: referencing>=0.28.4 in /usr/local/lib/python3.11/dist-packages (from jsonschema>=2.6->nbformat->notebook>=4.0.0->qgrid) (0.36.2)\n",
            "Requirement already satisfied: rpds-py>=0.7.1 in /usr/local/lib/python3.11/dist-packages (from jsonschema>=2.6->nbformat->notebook>=4.0.0->qgrid) (0.25.1)\n",
            "Requirement already satisfied: jupyter-server<3,>=1.8 in /usr/local/lib/python3.11/dist-packages (from notebook-shim>=0.2.3->nbclassic>=0.4.7->notebook>=4.0.0->qgrid) (1.16.0)\n",
            "Requirement already satisfied: wcwidth in /usr/local/lib/python3.11/dist-packages (from prompt-toolkit!=3.0.0,!=3.0.1,<3.1.0,>=2.0.0->ipython>=4.0.0->ipywidgets>=7.0.0->qgrid) (0.2.13)\n",
            "Requirement already satisfied: cffi>=1.0.1 in /usr/local/lib/python3.11/dist-packages (from argon2-cffi-bindings->argon2-cffi->notebook>=4.0.0->qgrid) (1.17.1)\n",
            "Requirement already satisfied: soupsieve>1.2 in /usr/local/lib/python3.11/dist-packages (from beautifulsoup4->nbconvert>=5->notebook>=4.0.0->qgrid) (2.7)\n",
            "Requirement already satisfied: typing-extensions>=4.0.0 in /usr/local/lib/python3.11/dist-packages (from beautifulsoup4->nbconvert>=5->notebook>=4.0.0->qgrid) (4.14.0)\n",
            "Requirement already satisfied: pycparser in /usr/local/lib/python3.11/dist-packages (from cffi>=1.0.1->argon2-cffi-bindings->argon2-cffi->notebook>=4.0.0->qgrid) (2.22)\n",
            "Requirement already satisfied: anyio>=3.1.0 in /usr/local/lib/python3.11/dist-packages (from jupyter-server<3,>=1.8->notebook-shim>=0.2.3->nbclassic>=0.4.7->notebook>=4.0.0->qgrid) (4.9.0)\n",
            "Requirement already satisfied: websocket-client in /usr/local/lib/python3.11/dist-packages (from jupyter-server<3,>=1.8->notebook-shim>=0.2.3->nbclassic>=0.4.7->notebook>=4.0.0->qgrid) (1.8.0)\n",
            "Requirement already satisfied: idna>=2.8 in /usr/local/lib/python3.11/dist-packages (from anyio>=3.1.0->jupyter-server<3,>=1.8->notebook-shim>=0.2.3->nbclassic>=0.4.7->notebook>=4.0.0->qgrid) (3.10)\n",
            "Requirement already satisfied: sniffio>=1.1 in /usr/local/lib/python3.11/dist-packages (from anyio>=3.1.0->jupyter-server<3,>=1.8->notebook-shim>=0.2.3->nbclassic>=0.4.7->notebook>=4.0.0->qgrid) (1.3.1)\n",
            "Downloading biopython-1.85-cp311-cp311-manylinux_2_17_x86_64.manylinux2014_x86_64.whl (3.3 MB)\n",
            "\u001b[2K   \u001b[90m━━━━━━━━━━━━━━━━━━━━━━━━━━━━━━━━━━━━━━━━\u001b[0m \u001b[32m3.3/3.3 MB\u001b[0m \u001b[31m79.2 MB/s\u001b[0m eta \u001b[36m0:00:00\u001b[0m\n",
            "\u001b[?25hDownloading jedi-0.19.2-py2.py3-none-any.whl (1.6 MB)\n",
            "\u001b[2K   \u001b[90m━━━━━━━━━━━━━━━━━━━━━━━━━━━━━━━━━━━━━━━━\u001b[0m \u001b[32m1.6/1.6 MB\u001b[0m \u001b[31m68.9 MB/s\u001b[0m eta \u001b[36m0:00:00\u001b[0m\n",
            "\u001b[?25hBuilding wheels for collected packages: qgrid\n",
            "  Building wheel for qgrid (setup.py) ... \u001b[?25l\u001b[?25hdone\n",
            "  Created wheel for qgrid: filename=qgrid-1.3.1-py2.py3-none-any.whl size=1761252 sha256=976880481aebe0ea49da0a5e36458fcf90aac0b30b002a9079f9a772f4cd40da\n",
            "  Stored in directory: /root/.cache/pip/wheels/7f/0f/d6/33b60aa35dbdc3d3e84c44b780c85e92d8767b698843f9e256\n",
            "Successfully built qgrid\n",
            "Installing collected packages: jedi, biopython, qgrid\n",
            "Successfully installed biopython-1.85 jedi-0.19.2 qgrid-1.3.1\n"
          ]
        }
      ],
      "source": [
        "!pip install biopython qgrid"
      ]
    },
    {
      "cell_type": "code",
      "source": [
        "from Bio import SeqIO\n",
        "from Bio.SeqUtils import gc_fraction\n",
        "import pandas as pd\n",
        "import qgrid\n",
        "from google.colab import files\n",
        "from google.colab import data_table"
      ],
      "metadata": {
        "id": "SfhHCETL_X2v"
      },
      "execution_count": 10,
      "outputs": []
    },
    {
      "cell_type": "markdown",
      "source": [
        "##📂  Upload your GenBank or EMBL files"
      ],
      "metadata": {
        "id": "aQ9_Zm8J_l74"
      }
    },
    {
      "cell_type": "code",
      "source": [
        "uploaded = files.upload()\n",
        "filenames = list(uploaded.keys())\n",
        "print(f\"Uploaded files: {filenames}\")"
      ],
      "metadata": {
        "colab": {
          "base_uri": "https://localhost:8080/",
          "height": 38
        },
        "id": "fWaPW7So_fRC",
        "outputId": "9ad5af64-8180-4384-c421-3f52ae0fc67e"
      },
      "execution_count": null,
      "outputs": [
        {
          "output_type": "display_data",
          "data": {
            "text/plain": [
              "<IPython.core.display.HTML object>"
            ],
            "text/html": [
              "\n",
              "     <input type=\"file\" id=\"files-d541ec62-30eb-463f-8545-f42f3e753d53\" name=\"files[]\" multiple disabled\n",
              "        style=\"border:none\" />\n",
              "     <output id=\"result-d541ec62-30eb-463f-8545-f42f3e753d53\">\n",
              "      Upload widget is only available when the cell has been executed in the\n",
              "      current browser session. Please rerun this cell to enable.\n",
              "      </output>\n",
              "      <script>// Copyright 2017 Google LLC\n",
              "//\n",
              "// Licensed under the Apache License, Version 2.0 (the \"License\");\n",
              "// you may not use this file except in compliance with the License.\n",
              "// You may obtain a copy of the License at\n",
              "//\n",
              "//      http://www.apache.org/licenses/LICENSE-2.0\n",
              "//\n",
              "// Unless required by applicable law or agreed to in writing, software\n",
              "// distributed under the License is distributed on an \"AS IS\" BASIS,\n",
              "// WITHOUT WARRANTIES OR CONDITIONS OF ANY KIND, either express or implied.\n",
              "// See the License for the specific language governing permissions and\n",
              "// limitations under the License.\n",
              "\n",
              "/**\n",
              " * @fileoverview Helpers for google.colab Python module.\n",
              " */\n",
              "(function(scope) {\n",
              "function span(text, styleAttributes = {}) {\n",
              "  const element = document.createElement('span');\n",
              "  element.textContent = text;\n",
              "  for (const key of Object.keys(styleAttributes)) {\n",
              "    element.style[key] = styleAttributes[key];\n",
              "  }\n",
              "  return element;\n",
              "}\n",
              "\n",
              "// Max number of bytes which will be uploaded at a time.\n",
              "const MAX_PAYLOAD_SIZE = 100 * 1024;\n",
              "\n",
              "function _uploadFiles(inputId, outputId) {\n",
              "  const steps = uploadFilesStep(inputId, outputId);\n",
              "  const outputElement = document.getElementById(outputId);\n",
              "  // Cache steps on the outputElement to make it available for the next call\n",
              "  // to uploadFilesContinue from Python.\n",
              "  outputElement.steps = steps;\n",
              "\n",
              "  return _uploadFilesContinue(outputId);\n",
              "}\n",
              "\n",
              "// This is roughly an async generator (not supported in the browser yet),\n",
              "// where there are multiple asynchronous steps and the Python side is going\n",
              "// to poll for completion of each step.\n",
              "// This uses a Promise to block the python side on completion of each step,\n",
              "// then passes the result of the previous step as the input to the next step.\n",
              "function _uploadFilesContinue(outputId) {\n",
              "  const outputElement = document.getElementById(outputId);\n",
              "  const steps = outputElement.steps;\n",
              "\n",
              "  const next = steps.next(outputElement.lastPromiseValue);\n",
              "  return Promise.resolve(next.value.promise).then((value) => {\n",
              "    // Cache the last promise value to make it available to the next\n",
              "    // step of the generator.\n",
              "    outputElement.lastPromiseValue = value;\n",
              "    return next.value.response;\n",
              "  });\n",
              "}\n",
              "\n",
              "/**\n",
              " * Generator function which is called between each async step of the upload\n",
              " * process.\n",
              " * @param {string} inputId Element ID of the input file picker element.\n",
              " * @param {string} outputId Element ID of the output display.\n",
              " * @return {!Iterable<!Object>} Iterable of next steps.\n",
              " */\n",
              "function* uploadFilesStep(inputId, outputId) {\n",
              "  const inputElement = document.getElementById(inputId);\n",
              "  inputElement.disabled = false;\n",
              "\n",
              "  const outputElement = document.getElementById(outputId);\n",
              "  outputElement.innerHTML = '';\n",
              "\n",
              "  const pickedPromise = new Promise((resolve) => {\n",
              "    inputElement.addEventListener('change', (e) => {\n",
              "      resolve(e.target.files);\n",
              "    });\n",
              "  });\n",
              "\n",
              "  const cancel = document.createElement('button');\n",
              "  inputElement.parentElement.appendChild(cancel);\n",
              "  cancel.textContent = 'Cancel upload';\n",
              "  const cancelPromise = new Promise((resolve) => {\n",
              "    cancel.onclick = () => {\n",
              "      resolve(null);\n",
              "    };\n",
              "  });\n",
              "\n",
              "  // Wait for the user to pick the files.\n",
              "  const files = yield {\n",
              "    promise: Promise.race([pickedPromise, cancelPromise]),\n",
              "    response: {\n",
              "      action: 'starting',\n",
              "    }\n",
              "  };\n",
              "\n",
              "  cancel.remove();\n",
              "\n",
              "  // Disable the input element since further picks are not allowed.\n",
              "  inputElement.disabled = true;\n",
              "\n",
              "  if (!files) {\n",
              "    return {\n",
              "      response: {\n",
              "        action: 'complete',\n",
              "      }\n",
              "    };\n",
              "  }\n",
              "\n",
              "  for (const file of files) {\n",
              "    const li = document.createElement('li');\n",
              "    li.append(span(file.name, {fontWeight: 'bold'}));\n",
              "    li.append(span(\n",
              "        `(${file.type || 'n/a'}) - ${file.size} bytes, ` +\n",
              "        `last modified: ${\n",
              "            file.lastModifiedDate ? file.lastModifiedDate.toLocaleDateString() :\n",
              "                                    'n/a'} - `));\n",
              "    const percent = span('0% done');\n",
              "    li.appendChild(percent);\n",
              "\n",
              "    outputElement.appendChild(li);\n",
              "\n",
              "    const fileDataPromise = new Promise((resolve) => {\n",
              "      const reader = new FileReader();\n",
              "      reader.onload = (e) => {\n",
              "        resolve(e.target.result);\n",
              "      };\n",
              "      reader.readAsArrayBuffer(file);\n",
              "    });\n",
              "    // Wait for the data to be ready.\n",
              "    let fileData = yield {\n",
              "      promise: fileDataPromise,\n",
              "      response: {\n",
              "        action: 'continue',\n",
              "      }\n",
              "    };\n",
              "\n",
              "    // Use a chunked sending to avoid message size limits. See b/62115660.\n",
              "    let position = 0;\n",
              "    do {\n",
              "      const length = Math.min(fileData.byteLength - position, MAX_PAYLOAD_SIZE);\n",
              "      const chunk = new Uint8Array(fileData, position, length);\n",
              "      position += length;\n",
              "\n",
              "      const base64 = btoa(String.fromCharCode.apply(null, chunk));\n",
              "      yield {\n",
              "        response: {\n",
              "          action: 'append',\n",
              "          file: file.name,\n",
              "          data: base64,\n",
              "        },\n",
              "      };\n",
              "\n",
              "      let percentDone = fileData.byteLength === 0 ?\n",
              "          100 :\n",
              "          Math.round((position / fileData.byteLength) * 100);\n",
              "      percent.textContent = `${percentDone}% done`;\n",
              "\n",
              "    } while (position < fileData.byteLength);\n",
              "  }\n",
              "\n",
              "  // All done.\n",
              "  yield {\n",
              "    response: {\n",
              "      action: 'complete',\n",
              "    }\n",
              "  };\n",
              "}\n",
              "\n",
              "scope.google = scope.google || {};\n",
              "scope.google.colab = scope.google.colab || {};\n",
              "scope.google.colab._files = {\n",
              "  _uploadFiles,\n",
              "  _uploadFilesContinue,\n",
              "};\n",
              "})(self);\n",
              "</script> "
            ]
          },
          "metadata": {}
        }
      ]
    },
    {
      "cell_type": "markdown",
      "source": [
        "##🧬  Parse & analyze sequences"
      ],
      "metadata": {
        "id": "PjOUXTjw_wQY"
      }
    },
    {
      "cell_type": "code",
      "source": [
        "df = pd.DataFrame(columns=[\n",
        "    'File', 'Record_ID', 'Type', 'Start', 'End', 'Length', 'Strand',\n",
        "    'Gene', 'Product', 'Protein Translation', 'GC Content',\n",
        "    'Long Gene', 'High GC'\n",
        "])\n",
        "\n",
        "for file in filenames:\n",
        "    if file.endswith(('.gb', '.gbk', '.embl')):\n",
        "        format_type = \"genbank\" if file.endswith(('.gb', '.gbk')) else \"embl\"\n",
        "\n",
        "        for record in SeqIO.parse(file, format_type):\n",
        "            for feature in record.features:\n",
        "                if feature.type in [\"gene\", \"CDS\"]:\n",
        "                    start = int(feature.location.start)\n",
        "                    end = int(feature.location.end)\n",
        "                    strand = feature.location.strand\n",
        "                    length = end - start\n",
        "\n",
        "                    gene_name = feature.qualifiers.get(\"gene\", [\"-\"])[0]\n",
        "                    product = feature.qualifiers.get(\"product\", [\"-\"])[0]\n",
        "                    translation = feature.qualifiers.get(\"translation\", [\"-\"])[0] if \"translation\" in feature.qualifiers else \"-\"\n",
        "\n",
        "                    gc_content = 0\n",
        "                    if feature.type == \"CDS\":\n",
        "                        seq = feature.extract(record.seq)\n",
        "                        gc_content = round(gc_fraction(seq) * 100, 2)\n",
        "\n",
        "                    long_gene = length > 1000\n",
        "                    high_gc = gc_content > 60\n",
        "\n",
        "                    df = pd.concat([df, pd.DataFrame([{\n",
        "                        'File': file,\n",
        "                        'Record_ID': record.id,\n",
        "                        'Type': feature.type,\n",
        "                        'Start': start,\n",
        "                        'End': end,\n",
        "                        'Length': length,\n",
        "                        'Strand': strand,\n",
        "                        'Gene': gene_name,\n",
        "                        'Product': product,\n",
        "                        'Protein Translation': translation,\n",
        "                        'GC Content': gc_content,\n",
        "                        'Long Gene': long_gene,\n",
        "                        'High GC': high_gc\n",
        "                    }])], ignore_index=True)"
      ],
      "metadata": {
        "id": "x5bd16cz_xeR"
      },
      "execution_count": 4,
      "outputs": []
    },
    {
      "cell_type": "markdown",
      "source": [
        "## 🔍 Explore the parsed features\n",
        "Use interactive tables to filter and sort by:\n",
        "- GC Content\n",
        "- Length\n",
        "- Product\n",
        "- Gene name\n",
        "and more!\n"
      ],
      "metadata": {
        "id": "J_8epfcP_6_L"
      }
    },
    {
      "cell_type": "code",
      "source": [
        "data_table.DataTable(df, num_rows_per_page=10)"
      ],
      "metadata": {
        "colab": {
          "base_uri": "https://localhost:8080/",
          "height": 121
        },
        "id": "5FiuKmnI_1Kj",
        "outputId": "4ad7cde5-7f1e-4fe7-97d1-2261bf9f20d7"
      },
      "execution_count": 5,
      "outputs": [
        {
          "output_type": "execute_result",
          "data": {
            "text/html": [
              "<div>\n",
              "<style scoped>\n",
              "    .dataframe tbody tr th:only-of-type {\n",
              "        vertical-align: middle;\n",
              "    }\n",
              "\n",
              "    .dataframe tbody tr th {\n",
              "        vertical-align: top;\n",
              "    }\n",
              "\n",
              "    .dataframe thead th {\n",
              "        text-align: right;\n",
              "    }\n",
              "</style>\n",
              "<table border=\"1\" class=\"dataframe\">\n",
              "  <thead>\n",
              "    <tr style=\"text-align: right;\">\n",
              "      <th></th>\n",
              "      <th>File</th>\n",
              "      <th>Record_ID</th>\n",
              "      <th>Type</th>\n",
              "      <th>Start</th>\n",
              "      <th>End</th>\n",
              "      <th>Length</th>\n",
              "      <th>Strand</th>\n",
              "      <th>Gene</th>\n",
              "      <th>Product</th>\n",
              "      <th>Protein Translation</th>\n",
              "      <th>GC Content</th>\n",
              "      <th>Long Gene</th>\n",
              "      <th>High GC</th>\n",
              "    </tr>\n",
              "  </thead>\n",
              "  <tbody>\n",
              "  </tbody>\n",
              "</table>\n",
              "</div>"
            ],
            "application/vnd.google.colaboratory.module+javascript": "\n      import \"https://ssl.gstatic.com/colaboratory/data_table/eb1f6b6393044813/data_table.js\";\n\n      const table = window.createDataTable({\n        data: [],\n        columns: [[\"number\", \"index\"], [\"number\", \"File\"], [\"number\", \"Record_ID\"], [\"number\", \"Type\"], [\"number\", \"Start\"], [\"number\", \"End\"], [\"number\", \"Length\"], [\"number\", \"Strand\"], [\"number\", \"Gene\"], [\"number\", \"Product\"], [\"number\", \"Protein Translation\"], [\"number\", \"GC Content\"], [\"number\", \"Long Gene\"], [\"number\", \"High GC\"]],\n        columnOptions: [{\"width\": \"1px\", \"className\": \"index_column\"}],\n        rowsPerPage: 10,\n        helpUrl: \"https://colab.research.google.com/notebooks/data_table.ipynb\",\n        suppressOutputScrolling: true,\n        minimumWidth: undefined,\n      });\n\n      function appendQuickchartButton(parentElement) {\n        let quickchartButtonContainerElement = document.createElement('div');\n        quickchartButtonContainerElement.innerHTML = `\n    <div id=\"df-eb3b47ed-9f87-4d39-bfb9-d9b94d087f50\">\n      <button class=\"colab-df-quickchart\" onclick=\"quickchart('df-eb3b47ed-9f87-4d39-bfb9-d9b94d087f50')\"\n                title=\"Suggest charts\"\n                style=\"display:none;\">\n\n<svg xmlns=\"http://www.w3.org/2000/svg\" height=\"24px\"viewBox=\"0 0 24 24\"\n     width=\"24px\">\n    <g>\n        <path d=\"M19 3H5c-1.1 0-2 .9-2 2v14c0 1.1.9 2 2 2h14c1.1 0 2-.9 2-2V5c0-1.1-.9-2-2-2zM9 17H7v-7h2v7zm4 0h-2V7h2v10zm4 0h-2v-4h2v4z\"/>\n    </g>\n</svg>\n      </button>\n\n<style>\n  .colab-df-quickchart {\n      --bg-color: #E8F0FE;\n      --fill-color: #1967D2;\n      --hover-bg-color: #E2EBFA;\n      --hover-fill-color: #174EA6;\n      --disabled-fill-color: #AAA;\n      --disabled-bg-color: #DDD;\n  }\n\n  [theme=dark] .colab-df-quickchart {\n      --bg-color: #3B4455;\n      --fill-color: #D2E3FC;\n      --hover-bg-color: #434B5C;\n      --hover-fill-color: #FFFFFF;\n      --disabled-bg-color: #3B4455;\n      --disabled-fill-color: #666;\n  }\n\n  .colab-df-quickchart {\n    background-color: var(--bg-color);\n    border: none;\n    border-radius: 50%;\n    cursor: pointer;\n    display: none;\n    fill: var(--fill-color);\n    height: 32px;\n    padding: 0;\n    width: 32px;\n  }\n\n  .colab-df-quickchart:hover {\n    background-color: var(--hover-bg-color);\n    box-shadow: 0 1px 2px rgba(60, 64, 67, 0.3), 0 1px 3px 1px rgba(60, 64, 67, 0.15);\n    fill: var(--button-hover-fill-color);\n  }\n\n  .colab-df-quickchart-complete:disabled,\n  .colab-df-quickchart-complete:disabled:hover {\n    background-color: var(--disabled-bg-color);\n    fill: var(--disabled-fill-color);\n    box-shadow: none;\n  }\n\n  .colab-df-spinner {\n    border: 2px solid var(--fill-color);\n    border-color: transparent;\n    border-bottom-color: var(--fill-color);\n    animation:\n      spin 1s steps(1) infinite;\n  }\n\n  @keyframes spin {\n    0% {\n      border-color: transparent;\n      border-bottom-color: var(--fill-color);\n      border-left-color: var(--fill-color);\n    }\n    20% {\n      border-color: transparent;\n      border-left-color: var(--fill-color);\n      border-top-color: var(--fill-color);\n    }\n    30% {\n      border-color: transparent;\n      border-left-color: var(--fill-color);\n      border-top-color: var(--fill-color);\n      border-right-color: var(--fill-color);\n    }\n    40% {\n      border-color: transparent;\n      border-right-color: var(--fill-color);\n      border-top-color: var(--fill-color);\n    }\n    60% {\n      border-color: transparent;\n      border-right-color: var(--fill-color);\n    }\n    80% {\n      border-color: transparent;\n      border-right-color: var(--fill-color);\n      border-bottom-color: var(--fill-color);\n    }\n    90% {\n      border-color: transparent;\n      border-bottom-color: var(--fill-color);\n    }\n  }\n</style>\n\n      <script>\n        async function quickchart(key) {\n          const quickchartButtonEl =\n            document.querySelector('#' + key + ' button');\n          quickchartButtonEl.disabled = true;  // To prevent multiple clicks.\n          quickchartButtonEl.classList.add('colab-df-spinner');\n          try {\n            const charts = await google.colab.kernel.invokeFunction(\n                'suggestCharts', [key], {});\n          } catch (error) {\n            console.error('Error during call to suggestCharts:', error);\n          }\n          quickchartButtonEl.classList.remove('colab-df-spinner');\n          quickchartButtonEl.classList.add('colab-df-quickchart-complete');\n        }\n        (() => {\n          let quickchartButtonEl =\n            document.querySelector('#df-eb3b47ed-9f87-4d39-bfb9-d9b94d087f50 button');\n          quickchartButtonEl.style.display =\n            google.colab.kernel.accessAllowed ? 'block' : 'none';\n        })();\n      </script>\n    </div>`;\n        parentElement.appendChild(quickchartButtonContainerElement);\n      }\n\n      appendQuickchartButton(table);\n    ",
            "text/plain": [
              "<google.colab.data_table.DataTable object>"
            ]
          },
          "metadata": {},
          "execution_count": 5
        }
      ]
    },
    {
      "cell_type": "code",
      "source": [
        "qgrid_widget = qgrid.show_grid(df, show_toolbar=True)\n",
        "qgrid_widget"
      ],
      "metadata": {
        "colab": {
          "base_uri": "https://localhost:8080/",
          "height": 17,
          "referenced_widgets": [
            "6096c8e9751643198175ef6d950c4d06"
          ]
        },
        "id": "X0VHgn0HAC48",
        "outputId": "5507432c-ce8c-44b2-c261-da43117174ff"
      },
      "execution_count": 6,
      "outputs": [
        {
          "output_type": "display_data",
          "data": {
            "text/plain": [
              "QgridWidget(grid_options={'fullWidthRows': True, 'syncColumnCellResize': True, 'forceFitColumns': True, 'defau…"
            ],
            "application/vnd.jupyter.widget-view+json": {
              "version_major": 2,
              "version_minor": 0,
              "model_id": "6096c8e9751643198175ef6d950c4d06"
            }
          },
          "metadata": {}
        }
      ]
    },
    {
      "cell_type": "code",
      "source": [
        "from google.colab import output\n",
        "output.enable_custom_widget_manager()"
      ],
      "metadata": {
        "id": "toYi7g71BYBr"
      },
      "execution_count": 7,
      "outputs": []
    },
    {
      "cell_type": "markdown",
      "source": [
        "Support for third party widgets will remain active for the duration of the session. To disable support:"
      ],
      "metadata": {
        "id": "gyNTg5p5BYBt"
      }
    },
    {
      "cell_type": "code",
      "source": [
        "from google.colab import output\n",
        "output.disable_custom_widget_manager()"
      ],
      "metadata": {
        "id": "XQtwy2oVBYBt"
      },
      "execution_count": null,
      "outputs": []
    },
    {
      "cell_type": "markdown",
      "source": [
        "## 💾 Save the data to CSV\n",
        "Download the processed data to analyze later in Excel, R, Python etc.\n"
      ],
      "metadata": {
        "id": "F0Cq0h0zAGAM"
      }
    },
    {
      "cell_type": "code",
      "source": [
        "df.to_csv(\"genbank_embl_parsed_with_gc_flags.csv\", index=False)\n",
        "files.download(\"genbank_embl_parsed_with_gc_flags.csv\")"
      ],
      "metadata": {
        "colab": {
          "base_uri": "https://localhost:8080/",
          "height": 17
        },
        "id": "pHbPdT1KAJcI",
        "outputId": "864753d9-3730-46a1-f991-5758778f2ad8"
      },
      "execution_count": 9,
      "outputs": [
        {
          "output_type": "display_data",
          "data": {
            "text/plain": [
              "<IPython.core.display.Javascript object>"
            ],
            "application/javascript": [
              "\n",
              "    async function download(id, filename, size) {\n",
              "      if (!google.colab.kernel.accessAllowed) {\n",
              "        return;\n",
              "      }\n",
              "      const div = document.createElement('div');\n",
              "      const label = document.createElement('label');\n",
              "      label.textContent = `Downloading \"${filename}\": `;\n",
              "      div.appendChild(label);\n",
              "      const progress = document.createElement('progress');\n",
              "      progress.max = size;\n",
              "      div.appendChild(progress);\n",
              "      document.body.appendChild(div);\n",
              "\n",
              "      const buffers = [];\n",
              "      let downloaded = 0;\n",
              "\n",
              "      const channel = await google.colab.kernel.comms.open(id);\n",
              "      // Send a message to notify the kernel that we're ready.\n",
              "      channel.send({})\n",
              "\n",
              "      for await (const message of channel.messages) {\n",
              "        // Send a message to notify the kernel that we're ready.\n",
              "        channel.send({})\n",
              "        if (message.buffers) {\n",
              "          for (const buffer of message.buffers) {\n",
              "            buffers.push(buffer);\n",
              "            downloaded += buffer.byteLength;\n",
              "            progress.value = downloaded;\n",
              "          }\n",
              "        }\n",
              "      }\n",
              "      const blob = new Blob(buffers, {type: 'application/binary'});\n",
              "      const a = document.createElement('a');\n",
              "      a.href = window.URL.createObjectURL(blob);\n",
              "      a.download = filename;\n",
              "      div.appendChild(a);\n",
              "      a.click();\n",
              "      div.remove();\n",
              "    }\n",
              "  "
            ]
          },
          "metadata": {}
        },
        {
          "output_type": "display_data",
          "data": {
            "text/plain": [
              "<IPython.core.display.Javascript object>"
            ],
            "application/javascript": [
              "download(\"download_7bbab240-c77f-4b97-b57c-d378c053e8d2\", \"genbank_embl_parsed_with_gc_flags.csv\", 106)"
            ]
          },
          "metadata": {}
        }
      ]
    },
    {
      "cell_type": "markdown",
      "source": [
        "# ✅ Summary\n",
        "- Parsed `gene` & `CDS` features from multiple GenBank / EMBL files.\n",
        "- Computed **GC content** for each CDS.\n",
        "- Flagged long genes (>1000 bp) & high GC (>60%).\n",
        "- Explored data with interactive filters.\n",
        "- Saved everything to a tidy CSV.\n",
        "\n",
        "---\n",
        "\n",
        "🚀 Now use this for:\n",
        "- Genome annotation summaries\n",
        "- Comparing multiple organisms\n",
        "- Reporting in research projects\n"
      ],
      "metadata": {
        "id": "xT9950znANnr"
      }
    }
  ]
}